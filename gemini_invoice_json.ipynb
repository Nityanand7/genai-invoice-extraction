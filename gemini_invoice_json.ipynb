{
  "cells": [
    {
      "cell_type": "markdown",
      "metadata": {
        "id": "h2OKob6qkMfi"
      },
      "source": [
        "## =========================================================\n",
        "## 📄 Digitized Invoices using Gemini | Google AI Studio | JSON\n",
        "## ========================================================="
      ]
    },
    {
      "cell_type": "markdown",
      "metadata": {
        "id": "J4WBvPaIkioF"
      },
      "source": [
        "Load API key from Colab Secrets.\n",
        "Make sure you've added your API key in the \"Secrets\" *tab*"
      ]
    },
    {
      "cell_type": "code",
      "execution_count": 2,
      "metadata": {
        "id": "3ADA4GXUd1WL"
      },
      "outputs": [],
      "source": [
        "from google.colab import userdata\n",
        "api_key = userdata.get('GOOGLE_API_KEY')"
      ]
    },
    {
      "cell_type": "markdown",
      "metadata": {
        "id": "RGYc6LqUkmUW"
      },
      "source": [
        "Initialize the Gemini client"
      ]
    },
    {
      "cell_type": "code",
      "execution_count": 3,
      "metadata": {
        "id": "w5C_LPqpd7W9"
      },
      "outputs": [],
      "source": [
        "from google import genai\n",
        "client = genai.Client(api_key=api_key)"
      ]
    },
    {
      "cell_type": "markdown",
      "metadata": {
        "id": "XNtneL0DktEj"
      },
      "source": [
        "Upload Invoice *Files*"
      ]
    },
    {
      "cell_type": "code",
      "execution_count": 4,
      "metadata": {
        "colab": {
          "base_uri": "https://localhost:8080/",
          "height": 73
        },
        "id": "Np4B8Q3ddpNA",
        "outputId": "a67d5e70-e2da-4dfa-ca5b-83b1455e8c84"
      },
      "outputs": [
        {
          "data": {
            "text/html": [
              "\n",
              "     <input type=\"file\" id=\"files-9502767b-dfed-46ec-84ad-25db0c2bb388\" name=\"files[]\" multiple disabled\n",
              "        style=\"border:none\" />\n",
              "     <output id=\"result-9502767b-dfed-46ec-84ad-25db0c2bb388\">\n",
              "      Upload widget is only available when the cell has been executed in the\n",
              "      current browser session. Please rerun this cell to enable.\n",
              "      </output>\n",
              "      <script>// Copyright 2017 Google LLC\n",
              "//\n",
              "// Licensed under the Apache License, Version 2.0 (the \"License\");\n",
              "// you may not use this file except in compliance with the License.\n",
              "// You may obtain a copy of the License at\n",
              "//\n",
              "//      http://www.apache.org/licenses/LICENSE-2.0\n",
              "//\n",
              "// Unless required by applicable law or agreed to in writing, software\n",
              "// distributed under the License is distributed on an \"AS IS\" BASIS,\n",
              "// WITHOUT WARRANTIES OR CONDITIONS OF ANY KIND, either express or implied.\n",
              "// See the License for the specific language governing permissions and\n",
              "// limitations under the License.\n",
              "\n",
              "/**\n",
              " * @fileoverview Helpers for google.colab Python module.\n",
              " */\n",
              "(function(scope) {\n",
              "function span(text, styleAttributes = {}) {\n",
              "  const element = document.createElement('span');\n",
              "  element.textContent = text;\n",
              "  for (const key of Object.keys(styleAttributes)) {\n",
              "    element.style[key] = styleAttributes[key];\n",
              "  }\n",
              "  return element;\n",
              "}\n",
              "\n",
              "// Max number of bytes which will be uploaded at a time.\n",
              "const MAX_PAYLOAD_SIZE = 100 * 1024;\n",
              "\n",
              "function _uploadFiles(inputId, outputId) {\n",
              "  const steps = uploadFilesStep(inputId, outputId);\n",
              "  const outputElement = document.getElementById(outputId);\n",
              "  // Cache steps on the outputElement to make it available for the next call\n",
              "  // to uploadFilesContinue from Python.\n",
              "  outputElement.steps = steps;\n",
              "\n",
              "  return _uploadFilesContinue(outputId);\n",
              "}\n",
              "\n",
              "// This is roughly an async generator (not supported in the browser yet),\n",
              "// where there are multiple asynchronous steps and the Python side is going\n",
              "// to poll for completion of each step.\n",
              "// This uses a Promise to block the python side on completion of each step,\n",
              "// then passes the result of the previous step as the input to the next step.\n",
              "function _uploadFilesContinue(outputId) {\n",
              "  const outputElement = document.getElementById(outputId);\n",
              "  const steps = outputElement.steps;\n",
              "\n",
              "  const next = steps.next(outputElement.lastPromiseValue);\n",
              "  return Promise.resolve(next.value.promise).then((value) => {\n",
              "    // Cache the last promise value to make it available to the next\n",
              "    // step of the generator.\n",
              "    outputElement.lastPromiseValue = value;\n",
              "    return next.value.response;\n",
              "  });\n",
              "}\n",
              "\n",
              "/**\n",
              " * Generator function which is called between each async step of the upload\n",
              " * process.\n",
              " * @param {string} inputId Element ID of the input file picker element.\n",
              " * @param {string} outputId Element ID of the output display.\n",
              " * @return {!Iterable<!Object>} Iterable of next steps.\n",
              " */\n",
              "function* uploadFilesStep(inputId, outputId) {\n",
              "  const inputElement = document.getElementById(inputId);\n",
              "  inputElement.disabled = false;\n",
              "\n",
              "  const outputElement = document.getElementById(outputId);\n",
              "  outputElement.innerHTML = '';\n",
              "\n",
              "  const pickedPromise = new Promise((resolve) => {\n",
              "    inputElement.addEventListener('change', (e) => {\n",
              "      resolve(e.target.files);\n",
              "    });\n",
              "  });\n",
              "\n",
              "  const cancel = document.createElement('button');\n",
              "  inputElement.parentElement.appendChild(cancel);\n",
              "  cancel.textContent = 'Cancel upload';\n",
              "  const cancelPromise = new Promise((resolve) => {\n",
              "    cancel.onclick = () => {\n",
              "      resolve(null);\n",
              "    };\n",
              "  });\n",
              "\n",
              "  // Wait for the user to pick the files.\n",
              "  const files = yield {\n",
              "    promise: Promise.race([pickedPromise, cancelPromise]),\n",
              "    response: {\n",
              "      action: 'starting',\n",
              "    }\n",
              "  };\n",
              "\n",
              "  cancel.remove();\n",
              "\n",
              "  // Disable the input element since further picks are not allowed.\n",
              "  inputElement.disabled = true;\n",
              "\n",
              "  if (!files) {\n",
              "    return {\n",
              "      response: {\n",
              "        action: 'complete',\n",
              "      }\n",
              "    };\n",
              "  }\n",
              "\n",
              "  for (const file of files) {\n",
              "    const li = document.createElement('li');\n",
              "    li.append(span(file.name, {fontWeight: 'bold'}));\n",
              "    li.append(span(\n",
              "        `(${file.type || 'n/a'}) - ${file.size} bytes, ` +\n",
              "        `last modified: ${\n",
              "            file.lastModifiedDate ? file.lastModifiedDate.toLocaleDateString() :\n",
              "                                    'n/a'} - `));\n",
              "    const percent = span('0% done');\n",
              "    li.appendChild(percent);\n",
              "\n",
              "    outputElement.appendChild(li);\n",
              "\n",
              "    const fileDataPromise = new Promise((resolve) => {\n",
              "      const reader = new FileReader();\n",
              "      reader.onload = (e) => {\n",
              "        resolve(e.target.result);\n",
              "      };\n",
              "      reader.readAsArrayBuffer(file);\n",
              "    });\n",
              "    // Wait for the data to be ready.\n",
              "    let fileData = yield {\n",
              "      promise: fileDataPromise,\n",
              "      response: {\n",
              "        action: 'continue',\n",
              "      }\n",
              "    };\n",
              "\n",
              "    // Use a chunked sending to avoid message size limits. See b/62115660.\n",
              "    let position = 0;\n",
              "    do {\n",
              "      const length = Math.min(fileData.byteLength - position, MAX_PAYLOAD_SIZE);\n",
              "      const chunk = new Uint8Array(fileData, position, length);\n",
              "      position += length;\n",
              "\n",
              "      const base64 = btoa(String.fromCharCode.apply(null, chunk));\n",
              "      yield {\n",
              "        response: {\n",
              "          action: 'append',\n",
              "          file: file.name,\n",
              "          data: base64,\n",
              "        },\n",
              "      };\n",
              "\n",
              "      let percentDone = fileData.byteLength === 0 ?\n",
              "          100 :\n",
              "          Math.round((position / fileData.byteLength) * 100);\n",
              "      percent.textContent = `${percentDone}% done`;\n",
              "\n",
              "    } while (position < fileData.byteLength);\n",
              "  }\n",
              "\n",
              "  // All done.\n",
              "  yield {\n",
              "    response: {\n",
              "      action: 'complete',\n",
              "    }\n",
              "  };\n",
              "}\n",
              "\n",
              "scope.google = scope.google || {};\n",
              "scope.google.colab = scope.google.colab || {};\n",
              "scope.google.colab._files = {\n",
              "  _uploadFiles,\n",
              "  _uploadFilesContinue,\n",
              "};\n",
              "})(self);\n",
              "</script> "
            ],
            "text/plain": [
              "<IPython.core.display.HTML object>"
            ]
          },
          "metadata": {},
          "output_type": "display_data"
        },
        {
          "name": "stdout",
          "output_type": "stream",
          "text": [
            "Saving invoice.jpeg to invoice (1).jpeg\n"
          ]
        }
      ],
      "source": [
        "from google.colab import files\n",
        "uploaded = files.upload()                       # choose a PDF/JPG/PNG\n",
        "file_path = next(iter(uploaded))                # first file name\n",
        "invoice_file = client.files.upload(file=file_path)"
      ]
    },
    {
      "cell_type": "markdown",
      "metadata": {
        "id": "WKfjo0zxkyBf"
      },
      "source": [
        "wait until file is processed"
      ]
    },
    {
      "cell_type": "code",
      "execution_count": 5,
      "metadata": {
        "id": "vBXefFK2dq4s"
      },
      "outputs": [],
      "source": [
        "if getattr(invoice_file, \"state\", \"\") == \"PROCESSING\":\n",
        "    import time\n",
        "    for _ in range(20):\n",
        "        time.sleep(0.5)\n",
        "        f = client.files.get(name=invoice_file.name)\n",
        "        if getattr(f, \"state\", \"\") == \"SUCCEEDED\":\n",
        "            invoice_file = f\n",
        "            break"
      ]
    },
    {
      "cell_type": "markdown",
      "metadata": {
        "id": "bJB7y9uAk2vE"
      },
      "source": [
        "Import pydantic\n",
        "\n"
      ]
    },
    {
      "cell_type": "code",
      "execution_count": 6,
      "metadata": {
        "id": "cRSTtjUMeJtP"
      },
      "outputs": [],
      "source": [
        "from pydantic import BaseModel\n",
        "from typing import Optional, List"
      ]
    },
    {
      "cell_type": "markdown",
      "metadata": {
        "id": "fv-dsME0k5hG"
      },
      "source": [
        "Define schema (Pydantic) for guaranteed JSON shape"
      ]
    },
    {
      "cell_type": "code",
      "execution_count": 7,
      "metadata": {
        "id": "yNCi_NadeLwy"
      },
      "outputs": [],
      "source": [
        "class LineItem(BaseModel):\n",
        "    description: Optional[str]\n",
        "    quantity: Optional[float]\n",
        "    unit_price: Optional[float]\n",
        "    amount: Optional[float]"
      ]
    },
    {
      "cell_type": "code",
      "execution_count": 8,
      "metadata": {
        "id": "tt-tQD_HePsq"
      },
      "outputs": [],
      "source": [
        "class Invoice(BaseModel):\n",
        "    vendor_name: Optional[str]\n",
        "    invoice_number: Optional[str]\n",
        "    invoice_date: Optional[str]  # expect YYYY-MM-DD\n",
        "    due_date: Optional[str]\n",
        "    currency: Optional[str]\n",
        "    subtotal: Optional[float]\n",
        "    tax: Optional[float]\n",
        "    total: Optional[float]\n",
        "    line_items: List[LineItem]"
      ]
    },
    {
      "cell_type": "markdown",
      "metadata": {
        "id": "nkxykkLhlEzD"
      },
      "source": [
        "Ask for structured JSON that matches the schema"
      ]
    },
    {
      "cell_type": "code",
      "execution_count": 9,
      "metadata": {
        "id": "5G3cBAwSeRJM"
      },
      "outputs": [],
      "source": [
        "prompt = (\n",
        "    \"Extract fields from this invoice. If a field is absent, set it to null. \"\n",
        "    \"Do not invent values. Dates must be YYYY-MM-DD. Return only JSON.\"\n",
        ")"
      ]
    },
    {
      "cell_type": "code",
      "execution_count": 10,
      "metadata": {
        "id": "GaDe_myIeUyB"
      },
      "outputs": [],
      "source": [
        "res = client.models.generate_content(\n",
        "    model=\"gemini-2.5-flash\",\n",
        "    contents=[invoice_file, prompt],\n",
        "    config=genai.types.GenerateContentConfig(\n",
        "        response_mime_type=\"application/json\",\n",
        "        response_schema=Invoice,\n",
        "        temperature=0.1,\n",
        "    ),\n",
        ")"
      ]
    },
    {
      "cell_type": "code",
      "execution_count": 11,
      "metadata": {
        "colab": {
          "base_uri": "https://localhost:8080/"
        },
        "id": "WAKTfNPdeW0f",
        "outputId": "7179c5dc-c5a7-46a2-fa43-ebfcd72095c1"
      },
      "outputs": [
        {
          "name": "stdout",
          "output_type": "stream",
          "text": [
            "{\"vendor_name\": \"SUNRISE PG FOR MEN\", \"invoice_number\": \"600\", \"invoice_date\": \"2019-11-19\", \"due_date\": null, \"currency\": \"INR\", \"subtotal\": null, \"tax\": null, \"total\": 24000, \"line_items\": [{\"description\": \"Rent for November 19th 2019 - 28th Nov 2019\", \"quantity\": 1, \"unit_price\": 24000, \"amount\": 24000}]}\n"
          ]
        }
      ],
      "source": [
        "print(res.text)     # JSON string\n",
        "data = res.parsed"
      ]
    },
    {
      "cell_type": "markdown",
      "metadata": {
        "id": "VO_1ea04lHWo"
      },
      "source": [
        "Save JSON to disk"
      ]
    },
    {
      "cell_type": "code",
      "execution_count": 12,
      "metadata": {
        "colab": {
          "base_uri": "https://localhost:8080/"
        },
        "id": "g9RQdkM6eYXF",
        "outputId": "f16c6d98-20b2-4173-d39f-3ba329dd7784"
      },
      "outputs": [
        {
          "name": "stdout",
          "output_type": "stream",
          "text": [
            "Saved to invoice_output.json\n"
          ]
        }
      ],
      "source": [
        "import json\n",
        "with open(\"invoice_output.json\", \"w\") as f:\n",
        "    json.dump(json.loads(res.text), f, indent=2)\n",
        "\n",
        "print(\"Saved to invoice_output.json\")"
      ]
    }
  ],
  "metadata": {
    "colab": {
      "provenance": []
    },
    "kernelspec": {
      "display_name": "Python 3",
      "name": "python3"
    },
    "language_info": {
      "name": "python"
    }
  },
  "nbformat": 4,
  "nbformat_minor": 0
}
